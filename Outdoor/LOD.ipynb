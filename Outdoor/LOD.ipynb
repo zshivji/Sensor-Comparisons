{
 "cells": [
  {
   "cell_type": "code",
   "execution_count": 11,
   "id": "b518796c",
   "metadata": {},
   "outputs": [],
   "source": [
    "import seaborn as sns\n",
    "import matplotlib.pyplot as plt\n",
    "import dask.dataframe as dd\n",
    "import pandas as pd\n",
    "import smps\n",
    "import plotly.express as px\n",
    "import plotly.graph_objects as go\n",
    "from matplotlib import pyplot\n",
    "from smps.fit import LogNormal\n",
    "import numpy as np\n",
    "import plotly as py\n",
    "sns.set(\"notebook\", \"ticks\", palette='colorblind') \n",
    "%matplotlib inline\n",
    "import statsmodels.api as sm"
   ]
  },
  {
   "cell_type": "markdown",
   "id": "922e7237",
   "metadata": {},
   "source": [
    "### Load MODULAIR-PM 1min data\n",
    "Resample 6 mins"
   ]
  },
  {
   "cell_type": "code",
   "execution_count": 2,
   "id": "f250d189",
   "metadata": {},
   "outputs": [],
   "source": [
    "#Final file (PM reported)\n",
    "#Define the start and stop periods for comparison\n",
    "start = \"2020-11-05 00:00\"\n",
    "stop = \"2021-01-01 23:59\"\n",
    "\n",
    "folder = input_raw = '/Users/zahrashivji/Dropbox (GaTech)/Shivji/Final Data/Outdoor Files/'\n",
    "df = dd.read_csv(\n",
    "    folder + 'EST_Roof_Final.csv',\n",
    "    parse_dates=['timestamp','timestamp_local']\n",
    ").compute()\n",
    "\n",
    "# Set the index to be the timestamp\n",
    "df.set_index(\"timestamp\", inplace=True) \n",
    "\n",
    "# Resample to a 6min time-base\n",
    "df = df.resample(\"6min\").mean()\n",
    "\n",
    "# Change the timezone (Takes care of daylight savings time)\n",
    "df.index = df.index.tz_convert('US/Eastern')\n",
    "\n",
    "df.index = df.index + pd.Timedelta(hours=1)\n",
    "\n",
    "# Keep only data between start and stop \n",
    "df = df[start:stop]"
   ]
  },
  {
   "cell_type": "code",
   "execution_count": 3,
   "id": "cf47b3c4",
   "metadata": {},
   "outputs": [],
   "source": [
    "#Raw file (PM1 integrated)\n",
    "df1 = dd.read_csv(\n",
    "    folder + 'EST_Roof_Raw.csv',\n",
    "    parse_dates=['timestamp','timestamp_local']\n",
    ").compute()\n",
    "\n",
    "# Set the index to be the timestamp\n",
    "df1.set_index(\"timestamp\", inplace=True) \n",
    "\n",
    "# Only keep un-flagged data\n",
    "df1 = df1.query(\"flag == 0\")\n",
    "\n",
    "# Resample to a 5min time-base\n",
    "df1 = df1.resample(\"6min\").mean()\n",
    "\n",
    "# Change the timezone (Takes care of daylight savings time)\n",
    "df1.index = df1.index.tz_convert('US/Eastern')\n",
    "\n",
    "df1.index = df1.index + pd.Timedelta(hours=1)\n",
    "\n",
    "# Keep only data between start and stop \n",
    "df1 = df1[start:stop]\n",
    "\n",
    "# Convert to an SMPS object\n",
    "mod_pm = smps.AlphasenseOPCN3(\n",
    "    data = df1.copy(),\n",
    "    bin_labels = [\"bin{}\".format(i) for i in range(24)]\n",
    ")"
   ]
  },
  {
   "cell_type": "markdown",
   "id": "05c77b73",
   "metadata": {},
   "source": [
    "### Load SMPS data\n",
    "Create SMPS object"
   ]
  },
  {
   "cell_type": "code",
   "execution_count": 4,
   "id": "fb2b593a",
   "metadata": {},
   "outputs": [],
   "source": [
    "df2 = pd.read_csv(\n",
    "    folder + '20210225_SMPS_NumberDistributions_JCR.csv',\n",
    "    skiprows = 23\n",
    ")\n",
    "\n",
    "def isfloat(str):\n",
    "    try:\n",
    "        float(str)\n",
    "        return True\n",
    "    except ValueError:\n",
    "        return False\n",
    "\n",
    "#Determine the total number of channels\n",
    "n_channels = sum([isfloat(x) for x in df2.columns])\n",
    "\n",
    "#Next determine the index of the first channel\n",
    "channel0_idx = [i for i, x in enumerate([isfloat(x) for x in df2.columns]) if x][0]\n",
    "\n",
    "#Convert to a datetime object\n",
    "df2['timestamp']=df2.apply(lambda x: \"{} {}\".format(x['Date'],x['Start Time']),axis=1)\n",
    "df2['timestamp']=df2['timestamp'].map(pd.to_datetime)\n",
    "\n",
    "#Grab the bin diameters\n",
    "midpoints = df2.columns[channel0_idx:channel0_idx+n_channels]\n",
    "binlabels = ['bin{}'.format(i) for i in range(n_channels)]\n",
    "\n",
    "#Rename the columns to bin<X>\n",
    "df2.rename(columns=dict(zip(midpoints,binlabels)),inplace=True)\n",
    "\n",
    "#Set the index for the data dataframe\n",
    "df2.set_index('timestamp',inplace=True)\n",
    "\n",
    "df2.index = df2.index.tz_localize('US/Eastern')\n",
    "\n",
    "df2 = df2[start:stop].copy()\n",
    "\n",
    "# Resample to a 5 min timebase\n",
    "df2 = df2.resample('6min').mean()\n",
    "\n",
    "# Build out a nx3 array of the bin boundaries\n",
    "bins = smps.utils.make_bins(\n",
    "    midpoints=midpoints,\n",
    "    lb = df2['Lower Size (nm)'][0],\n",
    "    ub = df2['Upper Size (nm)'][0],\n",
    "    channels_per_decade=64,\n",
    ")\n",
    "\n",
    "#B uild a generic Particle Sizer Object \n",
    "obj = smps.GenericParticleSizer(\n",
    "    data=df2.copy(),\n",
    "    bins=bins,\n",
    "    fmt='dn',\n",
    "    dp_units='nm',\n",
    "    bin_labels=binlabels\n",
    ")"
   ]
  },
  {
   "cell_type": "markdown",
   "id": "95d267e5",
   "metadata": {},
   "source": [
    "### Load Nephelometer 1 min data"
   ]
  },
  {
   "cell_type": "code",
   "execution_count": 5,
   "id": "3191f12f",
   "metadata": {},
   "outputs": [],
   "source": [
    "# Define the start and stop periods for comparison\n",
    "df3 = dd.read_csv(\n",
    "    folder + 'EST_Roof_Raw.csv',\n",
    "    parse_dates=['timestamp','timestamp_local']\n",
    ").compute()\n",
    "\n",
    "# Set the index to be the timestamp\n",
    "df3.set_index(\"timestamp\", inplace=True) \n",
    "\n",
    "# Only keep un-flagged data\n",
    "df3 = df3.query(\"flag == 0\")\n",
    "\n",
    "# Resample to a 5min time-base\n",
    "df3 = df3.resample(\"6min\").mean()\n",
    "\n",
    "# Change the timezone (Takes care of daylight savings time)\n",
    "df3.index = df3.index.tz_convert('US/Eastern')\n",
    "\n",
    "df3.index = df3.index + pd.Timedelta(hours=1)\n",
    "\n",
    "# Keep only data between start and stop \n",
    "df3 = df3[start:stop]"
   ]
  },
  {
   "cell_type": "code",
   "execution_count": 14,
   "id": "6a1af2c0",
   "metadata": {},
   "outputs": [
    {
     "data": {
      "text/plain": [
       "1.0812588410038795"
      ]
     },
     "execution_count": 14,
     "metadata": {},
     "output_type": "execute_result"
    }
   ],
   "source": [
    "tmp = obj.data[[\"Median (nm)\", \"Mean (nm)\", \"Mode (nm)\", \"Geo. Mean (nm)\"]].copy() \n",
    "tmp[\"PM1_SMPS\"] = obj.integrate(dmin=0, dmax=1., weight='mass', rho=1.65)\n",
    "tmp[\"PM1_modpm\"] = df['pm1']\n",
    "tmp[\"PM1_neph\"] = df3['pm1_env']\n",
    "\n",
    "msk = tmp.where(tmp[\"PM1_SMPS\"]<1)\n",
    "msk = msk.dropna()\n",
    "\n",
    "pms_std = msk.std()['PM1_neph']\n",
    "modpm_std =msk.std()['PM1_modpm']\n",
    "\n",
    "pms_slope = 0.86377 #from Igor\n",
    "modpm_slope = 0.92358 #from Igor\n",
    "\n",
    "# X_group = msk['PM1_SMPS']\n",
    "# X_group = sm.add_constant(X_group)\n",
    "\n",
    "# Y_group_pms = msk['PM1_neph']\n",
    "# Y_group_modpm = msk['PM1_modpm']\n",
    "\n",
    "# pms_ols = sm.OLS(Y_group_pms, X_group).fit()\n",
    "# modpm_ols = sm.OLS(Y_group_modpm, X_group).fit()\n",
    "\n",
    "# pms_ols.summary()\n",
    "\n",
    "pms_LOD = 3*pms_std/pms_slope\n",
    "modpm_LOD = 3*modpm_std/modpm_slope\n",
    "\n",
    "modpm_LOD"
   ]
  },
  {
   "cell_type": "code",
   "execution_count": null,
   "id": "aa1e0681",
   "metadata": {},
   "outputs": [],
   "source": [
    "0.7619244072194026 pms\n",
    "\n",
    "1.0812588410038795 modpm"
   ]
  }
 ],
 "metadata": {
  "kernelspec": {
   "display_name": "Python 3 (ipykernel)",
   "language": "python",
   "name": "python3"
  },
  "language_info": {
   "codemirror_mode": {
    "name": "ipython",
    "version": 3
   },
   "file_extension": ".py",
   "mimetype": "text/x-python",
   "name": "python",
   "nbconvert_exporter": "python",
   "pygments_lexer": "ipython3",
   "version": "3.9.7"
  }
 },
 "nbformat": 4,
 "nbformat_minor": 5
}
